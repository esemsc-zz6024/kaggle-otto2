{
 "cells": [
  {
   "cell_type": "code",
   "execution_count": 1,
   "metadata": {},
   "outputs": [],
   "source": [
    "exp = \"exp001_dev\""
   ]
  },
  {
   "cell_type": "code",
   "execution_count": 2,
   "metadata": {},
   "outputs": [],
   "source": [
    "from kaggle_otto2.config import Config\n",
    "from kaggle_otto2.data_loader import OttoDataLoader\n",
    "from kaggle_otto2.cand_generator import ItemCFCandGenerator, CandGeneratorBase\n",
    "\n",
    "config = Config(exp)\n",
    "data_loader = OttoDataLoader(config)"
   ]
  },
  {
   "cell_type": "code",
   "execution_count": null,
   "metadata": {},
   "outputs": [],
   "source": [
    "train_df = data_loader.get_train_df()"
   ]
  },
  {
   "cell_type": "code",
   "execution_count": null,
   "metadata": {},
   "outputs": [],
   "source": [
    "import numpy as np\n",
    "import polars as pl\n",
    "\n",
    "aids = train_df[\"aid\"].unique().to_numpy()\n",
    "aid_idxs = np.arange(len(aids))\n",
    "aid_idx_df = pl.DataFrame({\"aid\": aids, \"aid_idx\": aid_idxs})\n",
    "aid2idx = dict(zip(aids, aid_idxs))\n",
    "\n",
    "sessions = train_df[\"session\"].unique().to_numpy()\n",
    "session_idxs = np.arange(len(sessions))\n",
    "session_idx_df = pl.DataFrame({\"session\": sessions, \"session_idx\": session_idxs})\n"
   ]
  },
  {
   "cell_type": "code",
   "execution_count": null,
   "metadata": {},
   "outputs": [],
   "source": []
  }
 ],
 "metadata": {
  "kernelspec": {
   "display_name": ".venv",
   "language": "python",
   "name": "python3"
  },
  "language_info": {
   "codemirror_mode": {
    "name": "ipython",
    "version": 3
   },
   "file_extension": ".py",
   "mimetype": "text/x-python",
   "name": "python",
   "nbconvert_exporter": "python",
   "pygments_lexer": "ipython3",
   "version": "3.8.7"
  },
  "orig_nbformat": 4,
  "vscode": {
   "interpreter": {
    "hash": "f5872810591ac238ce96eba080bdd15f7cc4a904035f4195496abb26d05b038f"
   }
  }
 },
 "nbformat": 4,
 "nbformat_minor": 2
}
