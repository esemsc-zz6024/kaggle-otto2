{
 "cells": [
  {
   "cell_type": "code",
   "execution_count": 1,
   "metadata": {},
   "outputs": [],
   "source": [
    "exp = \"exp001_dev\""
   ]
  },
  {
   "cell_type": "code",
   "execution_count": 2,
   "metadata": {},
   "outputs": [],
   "source": [
    "from pathlib import Path\n",
    "import sys\n",
    "from tqdm import tqdm\n",
    "import polars as pl\n",
    "import numpy as np\n",
    "sys.path.append(str(Path().absolute().parent))\n",
    "from kaggle_otto2.config import Config\n",
    "from kaggle_otto2.data_loader import OttoDataLoader\n",
    "from kaggle_otto2.cand_generator import ItemCFCandGenerator, CandGeneratorBase\n",
    "from kaggle_otto2.util.evaluate_util import EvaluateUtil\n",
    "\n",
    "config = Config(exp)\n",
    "data_loader = OttoDataLoader(config)"
   ]
  }
 ],
 "metadata": {
  "kernelspec": {
   "display_name": "kaggle-otto",
   "language": "python",
   "name": "python3"
  },
  "language_info": {
   "codemirror_mode": {
    "name": "ipython",
    "version": 3
   },
   "file_extension": ".py",
   "mimetype": "text/x-python",
   "name": "python",
   "nbconvert_exporter": "python",
   "pygments_lexer": "ipython3",
   "version": "3.9.15"
  },
  "orig_nbformat": 4,
  "vscode": {
   "interpreter": {
    "hash": "afd119f343754233d66ee10d6aa5929c027b3ae90e53c50cba6bb6f1adc465ec"
   }
  }
 },
 "nbformat": 4,
 "nbformat_minor": 2
}
